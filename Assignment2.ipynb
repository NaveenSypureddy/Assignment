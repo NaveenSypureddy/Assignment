{
 "cells": [
  {
   "cell_type": "markdown",
   "id": "c8f064fe",
   "metadata": {},
   "source": [
    "# Pattern"
   ]
  },
  {
   "cell_type": "code",
   "execution_count": 52,
   "id": "4e4d3430",
   "metadata": {},
   "outputs": [
    {
     "name": "stdout",
     "output_type": "stream",
     "text": [
      "*\n",
      "**\n",
      "***\n",
      "****\n",
      "*****\n",
      "****\n",
      "***\n",
      "**\n",
      "*\n",
      "\n"
     ]
    }
   ],
   "source": [
    "n=10\n",
    "for i in range(n):\n",
    "    if i<n/2:\n",
    "        for j in range(i+1):\n",
    "            print('*',end='')\n",
    "        print('')\n",
    "    else:\n",
    "        for j in range(n-i-1):\n",
    "            #print(i)\n",
    "            print('*',end='')\n",
    "        print('')"
   ]
  },
  {
   "cell_type": "markdown",
   "id": "cb685819",
   "metadata": {},
   "source": [
    "# Reversing string"
   ]
  },
  {
   "cell_type": "code",
   "execution_count": 54,
   "id": "63d3906f",
   "metadata": {},
   "outputs": [
    {
     "name": "stdout",
     "output_type": "stream",
     "text": [
      "Enter the string to be reversed : ineuron\n",
      "norueni\n"
     ]
    }
   ],
   "source": [
    "word=input('Enter the string to be reversed : ')\n",
    "print(word[::-1])"
   ]
  },
  {
   "cell_type": "code",
   "execution_count": null,
   "id": "88328199",
   "metadata": {},
   "outputs": [],
   "source": []
  }
 ],
 "metadata": {
  "kernelspec": {
   "display_name": "Python 3",
   "language": "python",
   "name": "python3"
  },
  "language_info": {
   "codemirror_mode": {
    "name": "ipython",
    "version": 3
   },
   "file_extension": ".py",
   "mimetype": "text/x-python",
   "name": "python",
   "nbconvert_exporter": "python",
   "pygments_lexer": "ipython3",
   "version": "3.8.8"
  }
 },
 "nbformat": 4,
 "nbformat_minor": 5
}
